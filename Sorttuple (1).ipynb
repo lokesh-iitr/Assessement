{
 "cells": [
  {
   "cell_type": "code",
   "execution_count": 10,
   "metadata": {},
   "outputs": [
    {
     "name": "stdout",
     "output_type": "stream",
     "text": [
      "1 2 54 33 32 36\n",
      "(54, 36, 33, 32, 2, 1)\n"
     ]
    }
   ],
   "source": [
    "tp  = input().split()\n",
    "l = []\n",
    "for i in range(0,len(tp)):\n",
    "    l.append(int(tp[i]))\n",
    "l.sort()\n",
    "print(tuple(l[::-1]))"
   ]
  },
  {
   "cell_type": "code",
   "execution_count": null,
   "metadata": {},
   "outputs": [],
   "source": []
  }
 ],
 "metadata": {
  "kernelspec": {
   "display_name": "Python 3",
   "language": "python",
   "name": "python3"
  },
  "language_info": {
   "codemirror_mode": {
    "name": "ipython",
    "version": 3
   },
   "file_extension": ".py",
   "mimetype": "text/x-python",
   "name": "python",
   "nbconvert_exporter": "python",
   "pygments_lexer": "ipython3",
   "version": "3.6.4"
  }
 },
 "nbformat": 4,
 "nbformat_minor": 2
}
