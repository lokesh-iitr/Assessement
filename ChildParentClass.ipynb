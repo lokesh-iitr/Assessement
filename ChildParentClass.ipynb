{
 "cells": [
  {
   "cell_type": "code",
   "execution_count": 5,
   "metadata": {},
   "outputs": [
    {
     "name": "stdout",
     "output_type": "stream",
     "text": [
      "rohan quantiphi\n"
     ]
    }
   ],
   "source": [
    "#First create our parent class with name and gender argument\n",
    "class Human :\n",
    "    def __init__(self,name,gender):\n",
    "        self.name = name\n",
    "        self.gender = gender\n",
    "#Now cretae a child class Employee with name,gender,id,company,salary argument\n",
    "class Employee(Human):\n",
    "    def __init__(self,name,gender,id,company,salary):\n",
    "        Human.__init__(self,name,gender)\n",
    "        self.id = id\n",
    "        self.company = company\n",
    "        self.salary = salary\n",
    "\n",
    "emp1 = Employee(\"rohan\",\"male\",123,\"quantiphi\",4534)\n",
    "emp2 = Employee(\"kunal\",\"male\",1231,\"GS\",234523)\n",
    "emp3 = Employee(\"prachie\",\"Female\",2,\"amazon\",424242)\n",
    "print(emp1.name,emp1.company)   "
   ]
  },
  {
   "cell_type": "code",
   "execution_count": null,
   "metadata": {},
   "outputs": [],
   "source": []
  }
 ],
 "metadata": {
  "kernelspec": {
   "display_name": "Python 3",
   "language": "python",
   "name": "python3"
  },
  "language_info": {
   "codemirror_mode": {
    "name": "ipython",
    "version": 3
   },
   "file_extension": ".py",
   "mimetype": "text/x-python",
   "name": "python",
   "nbconvert_exporter": "python",
   "pygments_lexer": "ipython3",
   "version": "3.6.4"
  }
 },
 "nbformat": 4,
 "nbformat_minor": 2
}
