{
 "cells": [
  {
   "cell_type": "code",
   "execution_count": 7,
   "metadata": {},
   "outputs": [
    {
     "name": "stdout",
     "output_type": "stream",
     "text": [
      "1 2 3 4 5 63\n",
      "6\n",
      "-1\n"
     ]
    }
   ],
   "source": [
    "#take a list input\n",
    "l = input().split()\n",
    "#convert this list into integer data type list\n",
    "n = []\n",
    "for i in range(0,len(l)):\n",
    "    n.append(int(l[i]))\n",
    "#take a integer input for binary search\n",
    "k = int(input())\n",
    "#body for binary search function \n",
    "def binary(n,start,end,element):\n",
    "    if end>=start:\n",
    "        m = int((start+(end-1)/2))\n",
    "        if element == n[m]:\n",
    "            return element\n",
    "        elif n[m]>element:\n",
    "            return binary(n,start,m-1,element)\n",
    "        elif n[m]<element:\n",
    "            return binary(n,m+1,end,element)\n",
    "    else:\n",
    "        return -1\n",
    "print(binary(n,0,len(n)-1,k))"
   ]
  },
  {
   "cell_type": "code",
   "execution_count": null,
   "metadata": {},
   "outputs": [],
   "source": []
  }
 ],
 "metadata": {
  "kernelspec": {
   "display_name": "Python 3",
   "language": "python",
   "name": "python3"
  }
 },
 "nbformat": 4,
 "nbformat_minor": 2
}
