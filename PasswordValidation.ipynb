{
 "cells": [
  {
   "cell_type": "code",
   "execution_count": 24,
   "metadata": {},
   "outputs": [
    {
     "name": "stdout",
     "output_type": "stream",
     "text": [
      "Lkkkj^7$%\n",
      "Valid\n"
     ]
    }
   ],
   "source": [
    "#take an input string\n",
    "password = input()\n",
    "p = list()\n",
    "# covert string input ro char list\n",
    "for i in range(0,len(password)):\n",
    "    p.append(password[i])\n",
    "def valid(p):\n",
    "    bool = False\n",
    "    a = 0\n",
    "    b = 0\n",
    "    c = 0\n",
    "    d = 0\n",
    "    if len(p) >=6 and len(p) <=12: #check for length\n",
    "        bool = True\n",
    "        for i in range(0,len(p)):    \n",
    "            k = ord(p[i])\n",
    "            if k>=47 and k<=57:       #check if we have integer from 0 to 9\n",
    "                a = a+1\n",
    "            elif k>=65 and k<=90:     #check for small character\n",
    "                b = b+1\n",
    "            elif k >=97 and k <=122:  #check for capital character \n",
    "                c = c+1\n",
    "            elif p[i] ==\"$\" or p[i] == '#' or p[i] == '@':\n",
    "                d =d +1\n",
    "    else :\n",
    "        bool = False\n",
    "    if bool and a>=1 and b>=1 and c>=1 and d>=1:\n",
    "        return \"Valid\"\n",
    "    else:\n",
    "        return \"InValid\"\n",
    "        \n",
    "        \n",
    "print(valid(p))"
   ]
  },
  {
   "cell_type": "code",
   "execution_count": null,
   "metadata": {},
   "outputs": [],
   "source": []
  },
  {
   "cell_type": "code",
   "execution_count": null,
   "metadata": {},
   "outputs": [],
   "source": []
  }
 ],
 "metadata": {
  "kernelspec": {
   "display_name": "Python 3",
   "language": "python",
   "name": "python3"
  },
  "language_info": {
   "codemirror_mode": {
    "name": "ipython",
    "version": 3
   },
   "file_extension": ".py",
   "mimetype": "text/x-python",
   "name": "python",
   "nbconvert_exporter": "python",
   "pygments_lexer": "ipython3",
   "version": "3.6.4"
  }
 },
 "nbformat": 4,
 "nbformat_minor": 2
}
